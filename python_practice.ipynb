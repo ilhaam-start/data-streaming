{
 "cells": [
  {
   "cell_type": "code",
   "execution_count": 1,
   "metadata": {},
   "outputs": [
    {
     "name": "stdout",
     "output_type": "stream",
     "text": [
      "Event 1 - Current timestamp: 2023-07-31 10:51:16.958395\n",
      "Event 2 - Current timestamp: 2023-07-31 10:51:17.963254\n",
      "Event 3 - Current timestamp: 2023-07-31 10:51:18.966116\n",
      "Event 4 - Current timestamp: 2023-07-31 10:51:19.969614\n",
      "Event 5 - Current timestamp: 2023-07-31 10:51:20.974101\n",
      "Event 6 - Current timestamp: 2023-07-31 10:51:21.978975\n",
      "Event 7 - Current timestamp: 2023-07-31 10:51:22.982133\n",
      "Event 8 - Current timestamp: 2023-07-31 10:51:23.984772\n",
      "Event 9 - Current timestamp: 2023-07-31 10:51:24.986697\n",
      "Event 10 - Current timestamp: 2023-07-31 10:51:25.990038\n",
      "Event 11 - Current timestamp: 2023-07-31 10:51:26.996172\n",
      "Event 12 - Current timestamp: 2023-07-31 10:51:27.997088\n",
      "Event 13 - Current timestamp: 2023-07-31 10:51:29.000385\n",
      "Event 14 - Current timestamp: 2023-07-31 10:51:30.002706\n",
      "Event 15 - Current timestamp: 2023-07-31 10:51:31.005040\n",
      "Event 16 - Current timestamp: 2023-07-31 10:51:32.006346\n",
      "Event 17 - Current timestamp: 2023-07-31 10:51:33.010857\n",
      "Event 18 - Current timestamp: 2023-07-31 10:51:34.014007\n",
      "Event 19 - Current timestamp: 2023-07-31 10:51:35.017777\n",
      "Event 20 - Current timestamp: 2023-07-31 10:51:36.018946\n"
     ]
    }
   ],
   "source": [
    "import time\n",
    "from datetime import datetime\n",
    "\n",
    "# Function to send an event with the current timestamp\n",
    "def send_event(event_id):\n",
    "    timestamp = datetime.now()\n",
    "    print(f\"Event {event_id} - Current timestamp: {timestamp}\")\n",
    "\n",
    "# Loop to send 20 events with current timestamps\n",
    "for i in range(1, 21):\n",
    "    send_event(i)\n",
    "    time.sleep(1)  # Wait for one second before sending the next event"
   ]
  }
 ],
 "metadata": {
  "kernelspec": {
   "display_name": "Python 3 (ipykernel)",
   "language": "python",
   "name": "python3"
  },
  "orig_nbformat": 4
 },
 "nbformat": 4,
 "nbformat_minor": 2
}
