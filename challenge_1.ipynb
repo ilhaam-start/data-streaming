{
 "cells": [
  {
   "cell_type": "code",
   "execution_count": 27,
   "metadata": {},
   "outputs": [
    {
     "name": "stdout",
     "output_type": "stream",
     "text": [
      "+--------------------+--------------------+---+--------------------+----------+---+---+---------+------------------+---------+--------------------+----+----+----+----+----+----+\n",
      "|                name|                 url| cr|                type|      size| ac| hp|    speed|             align|legendary|              source| str| dex| con| int| wis| cha|\n",
      "+--------------------+--------------------+---+--------------------+----------+---+---+---------+------------------+---------+--------------------+----+----+----+----+----+----+\n",
      "|              zariel|https://www.aided...| 26|       fiend (devil)|     Large| 21|580|      fly|       lawful evil|Legendary|Mordenkainen's To...|27.0|22.0|28.0|26.0|27.0|30.0|\n",
      "|               solar|https://www.aided...| 21|           celestial|     Large| 21|243|      fly|       lawful good|Legendary|Monster Manual (SRD)|26.0|20.0|26.0|25.0|25.0|30.0|\n",
      "|              moloch|https://www.aided...| 21|       fiend (devil)|     Large| 19|253|     null|       lawful evil|Legendary|Mordenkainen's To...|26.0|19.0|22.0|21.0|18.0|23.0|\n",
      "|             vampire|https://www.aided...| 13|undead (shapechan...|    Medium| 16|144|     null|       lawful evil|Legendary|Monster Manual (SRD)|18.0|18.0|18.0|17.0|15.0|18.0|\n",
      "|                lich|https://www.aided...| 21|              undead|    Medium| 17|135|     null|any evil alignment|Legendary|Monster Manual (SRD)|11.0|16.0|16.0|20.0|14.0|16.0|\n",
      "|             unicorn|https://www.aided...|  5|           celestial|     Large| 12| 67|     null|       lawful good|Legendary|Monster Manual (SRD)|18.0|14.0|15.0|11.0|17.0|16.0|\n",
      "|          gynosphinx|https://www.aided...| 11|         monstrosity|     Large| 17|136|      fly|    lawful neutral|Legendary|Monster Manual (SRD)|18.0|13.0|16.0|18.0|18.0|18.0|\n",
      "|  adult-black-dragon|https://www.aided...| 14|              dragon|      Huge| 19|195|fly, swim|      chaotic evil|Legendary|Monster Manual (SRD)|23.0|12.0|21.0|14.0|13.0|17.0|\n",
      "|   adult-gold-dragon|https://www.aided...| 17|              dragon|      Huge| 19|256|fly, swim|       lawful good|Legendary|Monster Manual (SRD)|27.0|12.0|25.0|16.0|15.0|24.0|\n",
      "|ancient-black-dragon|https://www.aided...| 21|              dragon|Gargantuan| 22|367|fly, swim|      chaotic evil|Legendary|Monster Manual (SRD)|27.0|12.0|25.0|16.0|15.0|19.0|\n",
      "| ancient-gold-dragon|https://www.aided...| 24|              dragon|Gargantuan| 22|546|fly, swim|       lawful good|Legendary|Monster Manual (SRD)|30.0|12.0|29.0|18.0|17.0|28.0|\n",
      "|               orcus|https://www.aided...| 26|       fiend (demon)|      Huge| 17|405|      fly|      chaotic evil|Legendary|Mordenkainen's To...|27.0|12.0|25.0|20.0|20.0|25.0|\n",
      "|              kraken|https://www.aided...| 23| monstrosity (titan)|Gargantuan| 18|472|     swim|      chaotic evil|Legendary|Monster Manual (SRD)|30.0|11.0|25.0|22.0|18.0|20.0|\n",
      "|           tarrasque|https://www.aided...| 30| monstrosity (titan)|Gargantuan| 25|676|     null|         unaligned|Legendary|Monster Manual (SRD)|30.0|11.0|30.0| 3.0|11.0|11.0|\n",
      "| adult-copper-dragon|https://www.aided...| 14|              dragon|      Huge| 18|184|      fly|      chaotic good|Legendary|Monster Manual (SRD)|23.0|10.0|21.0|18.0|15.0|17.0|\n",
      "|  adult-green-dragon|https://www.aided...| 15|              dragon|      Huge| 19|207|fly, swim|       lawful evil|Legendary|Monster Manual (SRD)|23.0|10.0|21.0|18.0|15.0|17.0|\n",
      "|ancient-copper-dr...|https://www.aided...| 21|              dragon|Gargantuan| 21|350|      fly|      chaotic good|Legendary|Monster Manual (SRD)|27.0|10.0|25.0|20.0|17.0|19.0|\n",
      "|ancient-green-dragon|https://www.aided...| 22|              dragon|Gargantuan| 21|385|fly, swim|       lawful evil|Legendary|Monster Manual (SRD)|27.0|10.0|25.0|20.0|17.0|19.0|\n",
      "|          mummy-lord|https://www.aided...| 15|              undead|    Medium| 17| 97|     null|       lawful evil|Legendary|Monster Manual (SRD)|18.0|10.0|17.0|11.0|18.0|16.0|\n",
      "|             aboleth|https://www.aided...| 10|          aberration|     Large| 17|135|     swim|       lawful evil|Legendary|Monster Manual (SRD)|21.0| 9.0|15.0|18.0|15.0|18.0|\n",
      "+--------------------+--------------------+---+--------------------+----------+---+---+---------+------------------+---------+--------------------+----+----+----+----+----+----+\n",
      "\n"
     ]
    }
   ],
   "source": [
    "from pyspark.sql import SparkSession\n",
    "from pyspark.sql.functions import col, when\n",
    "\n",
    "# Create a SparkSession\n",
    "spark = SparkSession.builder.appName(\"DND Monsters\").getOrCreate()\n",
    "\n",
    "# Load the data from the csv file into a DataFrame\n",
    "file = \"./work/dnd_monsters.csv\"\n",
    "df = spark.read.csv(file, header=True, inferSchema=True)\n",
    "\n",
    "# Apply the transformations\n",
    "top_20_legendary_monsters = df.withColumn(\"dex\", col(\"dex\").cast('float')).withColumn(\"dex\", when(col(\"speed\").contains(\"fly\"), col(\"dex\") - 2).otherwise(col(\"dex\"))).filter(col(\"legendary\") == \"Legendary\").orderBy(col(\"dex\").desc()).limit(20)\n",
    "\n",
    "# Show the result\n",
    "top_20_legendary_monsters.show()"
   ]
  },
  {
   "cell_type": "markdown",
   "metadata": {},
   "source": [
    "### Explanation:\n",
    "\n",
    "1. I imported the libraries suggested\n",
    "2. I created a spark session to interact with Spark.\n",
    "3. I stored the path of the csv file in the file variable and read the data from the csv file to create a dataframe.\n",
    "4. I applied the transformations. So the task was to print the top 20 monsters which are: Legendary, Order them by the column dex (for Dexterity), If the monster has a speed type of fly - subtract 2 from it's dex.\n",
    "    - I first used the withColumn function to cast the dexterity column as \"float\" (numeric), this ensures the ordering is done correctly. I then used the withColumn() function with when() to check if the speed type of the monster is \"fly\". If it is, then I do 'col(\"dex\") - 2' to subtract 2 from the dex column. I then filter the dataframe to only include the \"Legendary\" monsters. I order this in descending order by dexterity and limit it at 20 so we can have the top 20 monsters.\n",
    "5. Lastly I show() the results."
   ]
  }
 ],
 "metadata": {
  "kernelspec": {
   "display_name": "Python 3 (ipykernel)",
   "language": "python",
   "name": "python3"
  },
  "language_info": {
   "codemirror_mode": {
    "name": "ipython",
    "version": 3
   },
   "file_extension": ".py",
   "mimetype": "text/x-python",
   "name": "python",
   "nbconvert_exporter": "python",
   "pygments_lexer": "ipython3",
   "version": "3.11.4"
  },
  "orig_nbformat": 4
 },
 "nbformat": 4,
 "nbformat_minor": 2
}
