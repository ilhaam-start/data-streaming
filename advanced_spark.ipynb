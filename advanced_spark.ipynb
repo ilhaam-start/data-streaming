{
 "cells": [
  {
   "cell_type": "code",
   "execution_count": 1,
   "metadata": {},
   "outputs": [
    {
     "name": "stdout",
     "output_type": "stream",
     "text": [
      "+-----+-----------+\n",
      "| Name|TotalAmount|\n",
      "+-----+-----------+\n",
      "|Alice|        250|\n",
      "|  Bob|        500|\n",
      "+-----+-----------+\n",
      "\n"
     ]
    }
   ],
   "source": [
    "from pyspark.sql import SparkSession\n",
    "from pyspark.sql.functions import sum\n",
    "\n",
    "# Create a SparkSession\n",
    "spark = SparkSession.builder.appName(\"GroupBySumExample\").getOrCreate()\n",
    "\n",
    "# Create a DataFrame\n",
    "data = [(\"Alice\", 100), (\"Bob\", 200), (\"Alice\", 150), (\"Bob\",  300)]\n",
    "df = spark.createDataFrame(data, [\"Name\", \"Amount\"])\n",
    "\n",
    "# Group by \"Name\" and calculate the sum of \"Amount\"\n",
    "result = df.groupBy(\"Name\").agg(sum(\"Amount\").alias(\"TotalAmount\"))\n",
    "\n",
    "# Show the result\n",
    "result.show()"
   ]
  },
  {
   "cell_type": "code",
   "execution_count": 2,
   "metadata": {},
   "outputs": [
    {
     "name": "stdout",
     "output_type": "stream",
     "text": [
      "+-------------------+-----+-------+----------------+-----------------+\n",
      "|          timestamp| name|dollars|previous_dollars|amount_difference|\n",
      "+-------------------+-----+-------+----------------+-----------------+\n",
      "|2022-01-01 09:00:00|Alice|      1|            null|             null|\n",
      "|2022-01-01 09:10:00|Alice|      2|               1|                1|\n",
      "|2022-01-01 09:30:00|Alice|      3|               2|                1|\n",
      "|2022-01-01 09:20:00|  Bob|     20|            null|             null|\n",
      "|2022-01-01 09:30:00|  Bob|     10|              20|              -10|\n",
      "|2022-01-01 09:50:00|  Bob|     30|              10|               20|\n",
      "+-------------------+-----+-------+----------------+-----------------+\n",
      "\n"
     ]
    }
   ],
   "source": [
    "from pyspark.sql import SparkSession\n",
    "from pyspark.sql.functions import lag, col\n",
    "from pyspark.sql.window import Window\n",
    "\n",
    "# Create a SparkSession\n",
    "spark = SparkSession.builder.appName(\"LagExample\").getOrCreate()\n",
    "\n",
    "# Create a DataFrame with timestamp, name, and dollars columns\n",
    "data = [\n",
    "    (\"2022-01-01 09:00:00\", \"Alice\", 1),\n",
    "    (\"2022-01-01 09:10:00\", \"Alice\", 2),\n",
    "    (\"2022-01-01 09:20:00\", \"Bob\", 20),\n",
    "    (\"2022-01-01 09:30:00\", \"Alice\", 3),\n",
    "    (\"2022-01-01 09:30:00\", \"Bob\", 10),\n",
    "    (\"2022-01-01 09:50:00\", \"Bob\", 30)\n",
    "]\n",
    "df = spark.createDataFrame(data, [\"timestamp\", \"name\", \"dollars\"])\n",
    "\n",
    "# Convert the \"timestamp\" column to timestamp type\n",
    "df = df.withColumn(\"timestamp\", col(\"timestamp\").cast(\"timestamp\"))\n",
    "\n",
    "# Add a new column \"previous_dollars\" with the previous value of \"dollars\" for each user\n",
    "df = df.withColumn(\"previous_dollars\", lag(\"dollars\").over(Window.orderBy(\"timestamp\").partitionBy(\"name\")))\n",
    "\n",
    "# Calculate the difference between the current and previous dollar amounts\n",
    "df = df.withColumn(\"amount_difference\", col(\"dollars\") - col(\"previous_dollars\"))\n",
    "\n",
    "# Show the result\n",
    "df.show()"
   ]
  }
 ],
 "metadata": {
  "kernelspec": {
   "display_name": "Python 3 (ipykernel)",
   "language": "python",
   "name": "python3"
  },
  "language_info": {
   "codemirror_mode": {
    "name": "ipython",
    "version": 3
   },
   "file_extension": ".py",
   "mimetype": "text/x-python",
   "name": "python",
   "nbconvert_exporter": "python",
   "pygments_lexer": "ipython3",
   "version": "3.11.4"
  },
  "orig_nbformat": 4
 },
 "nbformat": 4,
 "nbformat_minor": 2
}
